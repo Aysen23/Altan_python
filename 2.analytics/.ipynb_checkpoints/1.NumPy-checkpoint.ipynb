{
 "cells": [
  {
   "cell_type": "markdown",
   "id": "3df186c3",
   "metadata": {},
   "source": [
    "# NumPy\n",
    "\n",
    "* Массивы"
   ]
  },
  {
   "cell_type": "code",
   "execution_count": null,
   "id": "b6009d26",
   "metadata": {},
   "outputs": [],
   "source": [
    "print(\"Hello, Jupyter!\")"
   ]
  },
  {
   "cell_type": "code",
   "execution_count": null,
   "id": "df89b7b4",
   "metadata": {},
   "outputs": [],
   "source": []
  }
 ],
 "metadata": {
  "kernelspec": {
   "display_name": "Python 3 (ipykernel)",
   "language": "python",
   "name": "python3"
  }
 },
 "nbformat": 4,
 "nbformat_minor": 5
}
