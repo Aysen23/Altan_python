{
 "cells": [
  {
   "cell_type": "code",
   "execution_count": null,
   "id": "d4c350aa",
   "metadata": {},
   "outputs": [],
   "source": [
    "print(\"LKJK\")"
   ]
  },
  {
   "cell_type": "code",
   "execution_count": null,
   "id": "457ce0c5",
   "metadata": {},
   "outputs": [],
   "source": []
  },
  {
   "cell_type": "code",
   "execution_count": null,
   "id": "ab9da02f",
   "metadata": {},
   "outputs": [],
   "source": []
  }
 ],
 "metadata": {
  "kernelspec": {
   "display_name": "Python 3 (ipykernel)",
   "language": "python",
   "name": "python3"
  }
 },
 "nbformat": 4,
 "nbformat_minor": 5
}
