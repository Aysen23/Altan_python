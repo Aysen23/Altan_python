{
 "cells": [
  {
   "cell_type": "markdown",
   "metadata": {},
   "source": [
    "# Pandas"
   ]
  },
  {
   "cell_type": "code",
   "execution_count": 3,
   "metadata": {},
   "outputs": [],
   "source": [
    "import numpy as np\n",
    "import pandas as pd"
   ]
  },
  {
   "cell_type": "code",
   "execution_count": 4,
   "metadata": {},
   "outputs": [
    {
     "name": "stdout",
     "output_type": "stream",
     "text": [
      "Requirement already satisfied: pandas in /home/aysen/anaconda3/lib/python3.8/site-packages (1.3.3)\n",
      "Requirement already satisfied: numpy>=1.17.3 in /home/aysen/anaconda3/lib/python3.8/site-packages (from pandas) (1.21.3)\n",
      "Requirement already satisfied: python-dateutil>=2.7.3 in /home/aysen/anaconda3/lib/python3.8/site-packages (from pandas) (2.8.2)\n",
      "Requirement already satisfied: pytz>=2017.3 in /home/aysen/anaconda3/lib/python3.8/site-packages (from pandas) (2021.3)\n",
      "Requirement already satisfied: six>=1.5 in /home/aysen/anaconda3/lib/python3.8/site-packages (from python-dateutil>=2.7.3->pandas) (1.16.0)\n"
     ]
    }
   ],
   "source": [
    "!pip3 install pandas"
   ]
  },
  {
   "cell_type": "markdown",
   "metadata": {},
   "source": [
    "## Объекты Pandas\n",
    "\n",
    "- Series(последовательность)"
   ]
  },
  {
   "cell_type": "code",
   "execution_count": 5,
   "metadata": {},
   "outputs": [
    {
     "data": {
      "text/plain": [
       "0    10\n",
       "1    20\n",
       "2    30\n",
       "3    40\n",
       "dtype: int64"
      ]
     },
     "execution_count": 5,
     "metadata": {},
     "output_type": "execute_result"
    }
   ],
   "source": [
    "# Series - 1-мерный массив индексированных данных\n",
    "data = pd.Series([10,20,30,40])\n",
    "data"
   ]
  },
  {
   "cell_type": "code",
   "execution_count": null,
   "metadata": {},
   "outputs": [],
   "source": []
  },
  {
   "cell_type": "markdown",
   "metadata": {},
   "source": [
    "- атрибуты"
   ]
  },
  {
   "cell_type": "code",
   "execution_count": 6,
   "metadata": {},
   "outputs": [
    {
     "data": {
      "text/plain": [
       "array([10, 20, 30, 40])"
      ]
     },
     "execution_count": 6,
     "metadata": {},
     "output_type": "execute_result"
    }
   ],
   "source": [
    "# значения\n",
    "data.values"
   ]
  },
  {
   "cell_type": "code",
   "execution_count": 7,
   "metadata": {},
   "outputs": [
    {
     "data": {
      "text/plain": [
       "10"
      ]
     },
     "execution_count": 7,
     "metadata": {},
     "output_type": "execute_result"
    }
   ],
   "source": [
    "data.values[0]"
   ]
  },
  {
   "cell_type": "code",
   "execution_count": 8,
   "metadata": {},
   "outputs": [
    {
     "data": {
      "text/plain": [
       "RangeIndex(start=0, stop=4, step=1)"
      ]
     },
     "execution_count": 8,
     "metadata": {},
     "output_type": "execute_result"
    }
   ],
   "source": [
    "# индексы\n",
    "data.index"
   ]
  },
  {
   "cell_type": "code",
   "execution_count": 9,
   "metadata": {},
   "outputs": [
    {
     "name": "stdout",
     "output_type": "stream",
     "text": [
      "0\n",
      "1\n",
      "2\n",
      "3\n"
     ]
    }
   ],
   "source": [
    "for i in data.index:\n",
    "    print(i)"
   ]
  },
  {
   "cell_type": "code",
   "execution_count": 10,
   "metadata": {},
   "outputs": [
    {
     "data": {
      "text/plain": [
       "(4,)"
      ]
     },
     "execution_count": 10,
     "metadata": {},
     "output_type": "execute_result"
    }
   ],
   "source": [
    "# форма\n",
    "data.values.shape"
   ]
  },
  {
   "cell_type": "code",
   "execution_count": 11,
   "metadata": {},
   "outputs": [
    {
     "data": {
      "text/plain": [
       "(4,)"
      ]
     },
     "execution_count": 11,
     "metadata": {},
     "output_type": "execute_result"
    }
   ],
   "source": [
    "data.shape"
   ]
  },
  {
   "cell_type": "code",
   "execution_count": 12,
   "metadata": {},
   "outputs": [
    {
     "data": {
      "text/plain": [
       "dtype('int64')"
      ]
     },
     "execution_count": 12,
     "metadata": {},
     "output_type": "execute_result"
    }
   ],
   "source": [
    "# тип данных\n",
    "data.dtype"
   ]
  },
  {
   "cell_type": "code",
   "execution_count": null,
   "metadata": {},
   "outputs": [],
   "source": []
  },
  {
   "cell_type": "markdown",
   "metadata": {},
   "source": [
    "- чтение и запись данных"
   ]
  },
  {
   "cell_type": "code",
   "execution_count": 13,
   "metadata": {},
   "outputs": [
    {
     "data": {
      "text/plain": [
       "10"
      ]
     },
     "execution_count": 13,
     "metadata": {},
     "output_type": "execute_result"
    }
   ],
   "source": [
    "data[0]"
   ]
  },
  {
   "cell_type": "code",
   "execution_count": 14,
   "metadata": {},
   "outputs": [
    {
     "data": {
      "text/plain": [
       "0     10\n",
       "1    100\n",
       "2     30\n",
       "3     40\n",
       "dtype: int64"
      ]
     },
     "execution_count": 14,
     "metadata": {},
     "output_type": "execute_result"
    }
   ],
   "source": [
    "data[1] = 100\n",
    "data"
   ]
  },
  {
   "cell_type": "code",
   "execution_count": 15,
   "metadata": {},
   "outputs": [
    {
     "data": {
      "text/plain": [
       "0    10\n",
       "2    30\n",
       "3    40\n",
       "dtype: int64"
      ]
     },
     "execution_count": 15,
     "metadata": {},
     "output_type": "execute_result"
    }
   ],
   "source": [
    "del data[1]\n",
    "data"
   ]
  },
  {
   "cell_type": "code",
   "execution_count": 16,
   "metadata": {},
   "outputs": [
    {
     "data": {
      "text/plain": [
       "3     10\n",
       "2     20\n",
       "50    30\n",
       "0     40\n",
       "dtype: int64"
      ]
     },
     "execution_count": 16,
     "metadata": {},
     "output_type": "execute_result"
    }
   ],
   "source": [
    "# явные индексы\n",
    "data_2 = pd.Series([10,20,30,40], index=[3,2,50,0])\n",
    "data_2"
   ]
  },
  {
   "cell_type": "code",
   "execution_count": 17,
   "metadata": {},
   "outputs": [
    {
     "data": {
      "text/plain": [
       "30"
      ]
     },
     "execution_count": 17,
     "metadata": {},
     "output_type": "execute_result"
    }
   ],
   "source": [
    "data_2[50]"
   ]
  },
  {
   "cell_type": "code",
   "execution_count": 18,
   "metadata": {},
   "outputs": [
    {
     "data": {
      "text/plain": [
       "A    100\n",
       "B    200\n",
       "C    300\n",
       "dtype: int64"
      ]
     },
     "execution_count": 18,
     "metadata": {},
     "output_type": "execute_result"
    }
   ],
   "source": [
    "d = {'A':100, 'B':200, 'C':300}\n",
    "data_3 = pd.Series(d)\n",
    "data_3"
   ]
  },
  {
   "cell_type": "code",
   "execution_count": 19,
   "metadata": {},
   "outputs": [
    {
     "data": {
      "text/plain": [
       "200"
      ]
     },
     "execution_count": 19,
     "metadata": {},
     "output_type": "execute_result"
    }
   ],
   "source": [
    "data_3['B']"
   ]
  },
  {
   "cell_type": "code",
   "execution_count": 20,
   "metadata": {},
   "outputs": [
    {
     "data": {
      "text/plain": [
       "100"
      ]
     },
     "execution_count": 20,
     "metadata": {},
     "output_type": "execute_result"
    }
   ],
   "source": [
    "# неявные индексы\n",
    "# приминение атрибута-индексатора iloc\n",
    "data_3.iloc[0]"
   ]
  },
  {
   "cell_type": "code",
   "execution_count": 21,
   "metadata": {},
   "outputs": [
    {
     "data": {
      "text/plain": [
       "{'Якутск': 318768, 'Нерюнгри': 57009, 'Вилюйск': 11095}"
      ]
     },
     "execution_count": 21,
     "metadata": {},
     "output_type": "execute_result"
    }
   ],
   "source": [
    "# 14 урок\n",
    "\n",
    "pop_dict = {\n",
    "    \"Якутск\": 318768,\n",
    "    \"Нерюнгри\": 57009,\n",
    "    \"Вилюйск\": 11095, \n",
    "}\n",
    "pop_dict"
   ]
  },
  {
   "cell_type": "code",
   "execution_count": 22,
   "metadata": {},
   "outputs": [
    {
     "data": {
      "text/plain": [
       "Якутск      318768\n",
       "Нерюнгри     57009\n",
       "Вилюйск      11095\n",
       "dtype: int64"
      ]
     },
     "execution_count": 22,
     "metadata": {},
     "output_type": "execute_result"
    }
   ],
   "source": [
    "pop_data = pd.Series(pop_dict)\n",
    "pop_data"
   ]
  },
  {
   "cell_type": "code",
   "execution_count": 23,
   "metadata": {},
   "outputs": [
    {
     "data": {
      "text/plain": [
       "318768"
      ]
     },
     "execution_count": 23,
     "metadata": {},
     "output_type": "execute_result"
    }
   ],
   "source": [
    "pop_data[\"Якутск\"]"
   ]
  },
  {
   "cell_type": "code",
   "execution_count": 24,
   "metadata": {},
   "outputs": [
    {
     "data": {
      "text/plain": [
       "Якутск      319000\n",
       "Нерюнгри     57009\n",
       "Вилюйск      11095\n",
       "dtype: int64"
      ]
     },
     "execution_count": 24,
     "metadata": {},
     "output_type": "execute_result"
    }
   ],
   "source": [
    "pop_data[\"Якутск\"] = 319000\n",
    "pop_data"
   ]
  },
  {
   "cell_type": "code",
   "execution_count": 25,
   "metadata": {},
   "outputs": [
    {
     "data": {
      "text/plain": [
       "Нерюнгри    57009\n",
       "Вилюйск     11095\n",
       "dtype: int64"
      ]
     },
     "execution_count": 25,
     "metadata": {},
     "output_type": "execute_result"
    }
   ],
   "source": [
    "# срез до Нерюнгри\n",
    "pop_data[\"Нерюнгри\":]"
   ]
  },
  {
   "cell_type": "code",
   "execution_count": 26,
   "metadata": {},
   "outputs": [
    {
     "data": {
      "text/plain": [
       "Якутск      319000\n",
       "Нерюнгри     57009\n",
       "dtype: int64"
      ]
     },
     "execution_count": 26,
     "metadata": {},
     "output_type": "execute_result"
    }
   ],
   "source": [
    "# конечный индекс диапазона ВКЛЮЧАЕТСЯ в срез\n",
    "pop_data[:\"Нерюнгри\"]"
   ]
  },
  {
   "cell_type": "code",
   "execution_count": 27,
   "metadata": {},
   "outputs": [
    {
     "data": {
      "text/plain": [
       "Якутск      319000\n",
       "Нерюнгри     57009\n",
       "Вилюйск      11095\n",
       "Тикси         4745\n",
       "dtype: int64"
      ]
     },
     "execution_count": 27,
     "metadata": {},
     "output_type": "execute_result"
    }
   ],
   "source": [
    "# новые строки можно добавлять с использованием словарного синтаксиса\n",
    "pop_data[\"Тикси\"] = 4745\n",
    "pop_data"
   ]
  },
  {
   "cell_type": "code",
   "execution_count": 28,
   "metadata": {},
   "outputs": [
    {
     "data": {
      "text/plain": [
       "Якутск      319000.000\n",
       "Нерюнгри     57009.000\n",
       "Вилюйск      11095.000\n",
       "Тикси         4745.000\n",
       "Мирный          35.416\n",
       "dtype: float64"
      ]
     },
     "execution_count": 28,
     "metadata": {},
     "output_type": "execute_result"
    }
   ],
   "source": [
    "pop_data[\"Мирный\"] = 35.416\n",
    "pop_data"
   ]
  },
  {
   "cell_type": "code",
   "execution_count": null,
   "metadata": {},
   "outputs": [],
   "source": []
  },
  {
   "cell_type": "markdown",
   "metadata": {},
   "source": [
    "- DataFrame"
   ]
  },
  {
   "cell_type": "code",
   "execution_count": 29,
   "metadata": {},
   "outputs": [
    {
     "data": {
      "text/plain": [
       "{'col_1': {'row_1': 100, 'row_2': 200}, 'col_2': {'row_2': 300, 'row_3': 400}}"
      ]
     },
     "execution_count": 29,
     "metadata": {},
     "output_type": "execute_result"
    }
   ],
   "source": [
    "# Многомерный массив (таблица)\n",
    "data_dict = {\n",
    "    \"col_1\": {\"row_1\": 100, \"row_2\": 200},\n",
    "    \"col_2\": {\"row_2\": 300, \"row_3\": 400}\n",
    "}\n",
    "data_dict"
   ]
  },
  {
   "cell_type": "code",
   "execution_count": 30,
   "metadata": {},
   "outputs": [
    {
     "data": {
      "text/html": [
       "<div>\n",
       "<style scoped>\n",
       "    .dataframe tbody tr th:only-of-type {\n",
       "        vertical-align: middle;\n",
       "    }\n",
       "\n",
       "    .dataframe tbody tr th {\n",
       "        vertical-align: top;\n",
       "    }\n",
       "\n",
       "    .dataframe thead th {\n",
       "        text-align: right;\n",
       "    }\n",
       "</style>\n",
       "<table border=\"1\" class=\"dataframe\">\n",
       "  <thead>\n",
       "    <tr style=\"text-align: right;\">\n",
       "      <th></th>\n",
       "      <th>col_1</th>\n",
       "      <th>col_2</th>\n",
       "    </tr>\n",
       "  </thead>\n",
       "  <tbody>\n",
       "    <tr>\n",
       "      <th>row_1</th>\n",
       "      <td>100.0</td>\n",
       "      <td>NaN</td>\n",
       "    </tr>\n",
       "    <tr>\n",
       "      <th>row_2</th>\n",
       "      <td>200.0</td>\n",
       "      <td>300.0</td>\n",
       "    </tr>\n",
       "    <tr>\n",
       "      <th>row_3</th>\n",
       "      <td>NaN</td>\n",
       "      <td>400.0</td>\n",
       "    </tr>\n",
       "  </tbody>\n",
       "</table>\n",
       "</div>"
      ],
      "text/plain": [
       "       col_1  col_2\n",
       "row_1  100.0    NaN\n",
       "row_2  200.0  300.0\n",
       "row_3    NaN  400.0"
      ]
     },
     "execution_count": 30,
     "metadata": {},
     "output_type": "execute_result"
    }
   ],
   "source": [
    "pd.DataFrame(data_dict)"
   ]
  },
  {
   "cell_type": "code",
   "execution_count": 31,
   "metadata": {},
   "outputs": [],
   "source": [
    "# NaN = Not a Number (пустота)"
   ]
  },
  {
   "cell_type": "code",
   "execution_count": 32,
   "metadata": {},
   "outputs": [
    {
     "data": {
      "text/plain": [
       "Якутск        122.00\n",
       "Вилюйск        15.00\n",
       "Нерюнгри       98.90\n",
       "Тикси       14595.39\n",
       "dtype: float64"
      ]
     },
     "execution_count": 32,
     "metadata": {},
     "output_type": "execute_result"
    }
   ],
   "source": [
    "# новые данные по городам\n",
    "area_data = pd.Series({\n",
    "    \"Якутск\": 122,\n",
    "    \"Вилюйск\": 15,\n",
    "    \"Нерюнгри\": 98.9,\n",
    "    \"Тикси\": 14595.39\n",
    "})\n",
    "area_data"
   ]
  },
  {
   "cell_type": "code",
   "execution_count": 33,
   "metadata": {},
   "outputs": [
    {
     "data": {
      "text/plain": [
       "Якутск      62°01′38″ с. ш. 129°43′55″ в. д.\n",
       "Вилюйск       63°44′48″ с.ш. 121°38′00″ в.д.\n",
       "Нерюнгри      56°39′58″ с.ш. 124°38′17″ в.д.\n",
       "Тикси          71°38′12 с. ш. 128°52′04 в. д\n",
       "Мирный            62°32′ с. ш. 113°57′ в. д.\n",
       "dtype: object"
      ]
     },
     "execution_count": 33,
     "metadata": {},
     "output_type": "execute_result"
    }
   ],
   "source": [
    "coor_data = pd.Series({\n",
    "    \"Якутск\": \"62°01′38″ с. ш. 129°43′55″ в. д.\",\n",
    "    \"Вилюйск\": \"63°44′48″ с.ш. 121°38′00″ в.д.\",\n",
    "    \"Нерюнгри\": \"56°39′58″ с.ш. 124°38′17″ в.д.\",\n",
    "    \"Тикси\": \"71°38′12 с. ш. 128°52′04 в. д\",\n",
    "    \"Мирный\": \"62°32′ с. ш. 113°57′ в. д.\"\n",
    "})\n",
    "coor_data"
   ]
  },
  {
   "cell_type": "code",
   "execution_count": 34,
   "metadata": {},
   "outputs": [
    {
     "data": {
      "text/html": [
       "<div>\n",
       "<style scoped>\n",
       "    .dataframe tbody tr th:only-of-type {\n",
       "        vertical-align: middle;\n",
       "    }\n",
       "\n",
       "    .dataframe tbody tr th {\n",
       "        vertical-align: top;\n",
       "    }\n",
       "\n",
       "    .dataframe thead th {\n",
       "        text-align: right;\n",
       "    }\n",
       "</style>\n",
       "<table border=\"1\" class=\"dataframe\">\n",
       "  <thead>\n",
       "    <tr style=\"text-align: right;\">\n",
       "      <th></th>\n",
       "      <th>население</th>\n",
       "      <th>площадь</th>\n",
       "      <th>координаты</th>\n",
       "    </tr>\n",
       "  </thead>\n",
       "  <tbody>\n",
       "    <tr>\n",
       "      <th>Вилюйск</th>\n",
       "      <td>11095.000</td>\n",
       "      <td>15.00</td>\n",
       "      <td>63°44′48″ с.ш. 121°38′00″ в.д.</td>\n",
       "    </tr>\n",
       "    <tr>\n",
       "      <th>Мирный</th>\n",
       "      <td>35.416</td>\n",
       "      <td>NaN</td>\n",
       "      <td>62°32′ с. ш. 113°57′ в. д.</td>\n",
       "    </tr>\n",
       "    <tr>\n",
       "      <th>Нерюнгри</th>\n",
       "      <td>57009.000</td>\n",
       "      <td>98.90</td>\n",
       "      <td>56°39′58″ с.ш. 124°38′17″ в.д.</td>\n",
       "    </tr>\n",
       "    <tr>\n",
       "      <th>Тикси</th>\n",
       "      <td>4745.000</td>\n",
       "      <td>14595.39</td>\n",
       "      <td>71°38′12 с. ш. 128°52′04 в. д</td>\n",
       "    </tr>\n",
       "    <tr>\n",
       "      <th>Якутск</th>\n",
       "      <td>319000.000</td>\n",
       "      <td>122.00</td>\n",
       "      <td>62°01′38″ с. ш. 129°43′55″ в. д.</td>\n",
       "    </tr>\n",
       "  </tbody>\n",
       "</table>\n",
       "</div>"
      ],
      "text/plain": [
       "           население   площадь                        координаты\n",
       "Вилюйск    11095.000     15.00    63°44′48″ с.ш. 121°38′00″ в.д.\n",
       "Мирный        35.416       NaN        62°32′ с. ш. 113°57′ в. д.\n",
       "Нерюнгри   57009.000     98.90    56°39′58″ с.ш. 124°38′17″ в.д.\n",
       "Тикси       4745.000  14595.39     71°38′12 с. ш. 128°52′04 в. д\n",
       "Якутск    319000.000    122.00  62°01′38″ с. ш. 129°43′55″ в. д."
      ]
     },
     "execution_count": 34,
     "metadata": {},
     "output_type": "execute_result"
    }
   ],
   "source": [
    "cities_data = pd.DataFrame({\n",
    "    \"население\": pop_data,\n",
    "    \"площадь\": area_data,\n",
    "    \"координаты\": coor_data\n",
    "})\n",
    "cities_data"
   ]
  },
  {
   "cell_type": "code",
   "execution_count": 35,
   "metadata": {},
   "outputs": [
    {
     "data": {
      "text/plain": [
       "Вилюйск      11095.000\n",
       "Мирный          35.416\n",
       "Нерюнгри     57009.000\n",
       "Тикси         4745.000\n",
       "Якутск      319000.000\n",
       "Name: население, dtype: float64"
      ]
     },
     "execution_count": 35,
     "metadata": {},
     "output_type": "execute_result"
    }
   ],
   "source": [
    "# DataFrame можно рассматривать как специализированный словарь,\n",
    "# содержащий Series-объекты\n",
    "cities_data[\"население\"]"
   ]
  },
  {
   "cell_type": "code",
   "execution_count": 36,
   "metadata": {},
   "outputs": [
    {
     "data": {
      "text/plain": [
       "4745.0"
      ]
     },
     "execution_count": 36,
     "metadata": {},
     "output_type": "execute_result"
    }
   ],
   "source": [
    "cities_data[\"население\"][\"Тикси\"]"
   ]
  },
  {
   "cell_type": "code",
   "execution_count": 37,
   "metadata": {},
   "outputs": [
    {
     "data": {
      "text/plain": [
       "население                            4745.0\n",
       "площадь                            14595.39\n",
       "координаты    71°38′12 с. ш. 128°52′04 в. д\n",
       "Name: Тикси, dtype: object"
      ]
     },
     "execution_count": 37,
     "metadata": {},
     "output_type": "execute_result"
    }
   ],
   "source": [
    "# извлечение строки по явному индексу\n",
    "# применяется атрибут-индексатор\n",
    "# [индексация строк, индексация столбцов]\n",
    "cities_data.loc[\"Тикси\", :]"
   ]
  },
  {
   "cell_type": "code",
   "execution_count": 38,
   "metadata": {},
   "outputs": [
    {
     "data": {
      "text/html": [
       "<div>\n",
       "<style scoped>\n",
       "    .dataframe tbody tr th:only-of-type {\n",
       "        vertical-align: middle;\n",
       "    }\n",
       "\n",
       "    .dataframe tbody tr th {\n",
       "        vertical-align: top;\n",
       "    }\n",
       "\n",
       "    .dataframe thead th {\n",
       "        text-align: right;\n",
       "    }\n",
       "</style>\n",
       "<table border=\"1\" class=\"dataframe\">\n",
       "  <thead>\n",
       "    <tr style=\"text-align: right;\">\n",
       "      <th></th>\n",
       "      <th>население</th>\n",
       "      <th>площадь</th>\n",
       "      <th>координаты</th>\n",
       "    </tr>\n",
       "  </thead>\n",
       "  <tbody>\n",
       "    <tr>\n",
       "      <th>Вилюйск</th>\n",
       "      <td>11095.0</td>\n",
       "      <td>15.0</td>\n",
       "      <td>63°44′48″ с.ш. 121°38′00″ в.д.</td>\n",
       "    </tr>\n",
       "    <tr>\n",
       "      <th>Якутск</th>\n",
       "      <td>319000.0</td>\n",
       "      <td>122.0</td>\n",
       "      <td>62°01′38″ с. ш. 129°43′55″ в. д.</td>\n",
       "    </tr>\n",
       "  </tbody>\n",
       "</table>\n",
       "</div>"
      ],
      "text/plain": [
       "         население  площадь                        координаты\n",
       "Вилюйск    11095.0     15.0    63°44′48″ с.ш. 121°38′00″ в.д.\n",
       "Якутск    319000.0    122.0  62°01′38″ с. ш. 129°43′55″ в. д."
      ]
     },
     "execution_count": 38,
     "metadata": {},
     "output_type": "execute_result"
    }
   ],
   "source": [
    "# комбинация прихотливой индексации и среза\n",
    "cities_data.loc[[\"Вилюйск\", \"Якутск\"], :]"
   ]
  },
  {
   "cell_type": "code",
   "execution_count": 39,
   "metadata": {},
   "outputs": [
    {
     "data": {
      "text/plain": [
       "Вилюйск     15.0\n",
       "Якутск     122.0\n",
       "Name: площадь, dtype: float64"
      ]
     },
     "execution_count": 39,
     "metadata": {},
     "output_type": "execute_result"
    }
   ],
   "source": [
    "cities_data.loc[[\"Вилюйск\", \"Якутск\"], \"площадь\"]"
   ]
  },
  {
   "cell_type": "code",
   "execution_count": 40,
   "metadata": {},
   "outputs": [
    {
     "data": {
      "text/plain": [
       "Вилюйск     11095.0\n",
       "Нерюнгри    57009.0\n",
       "Name: население, dtype: float64"
      ]
     },
     "execution_count": 40,
     "metadata": {},
     "output_type": "execute_result"
    }
   ],
   "source": [
    "# неявеые индексы\n",
    "# нужен атрибут-индексатор iloc\n",
    "cities_data.iloc[[0, 2], 0]"
   ]
  },
  {
   "cell_type": "code",
   "execution_count": 41,
   "metadata": {},
   "outputs": [
    {
     "data": {
      "text/plain": [
       "Вилюйск     False\n",
       "Мирный      False\n",
       "Нерюнгри     True\n",
       "Тикси        True\n",
       "Якутск       True\n",
       "Name: площадь, dtype: bool"
      ]
     },
     "execution_count": 41,
     "metadata": {},
     "output_type": "execute_result"
    }
   ],
   "source": [
    "# маскирование\n",
    "mask = cities_data[\"площадь\"] > 20\n",
    "mask"
   ]
  },
  {
   "cell_type": "code",
   "execution_count": 42,
   "metadata": {},
   "outputs": [
    {
     "data": {
      "text/html": [
       "<div>\n",
       "<style scoped>\n",
       "    .dataframe tbody tr th:only-of-type {\n",
       "        vertical-align: middle;\n",
       "    }\n",
       "\n",
       "    .dataframe tbody tr th {\n",
       "        vertical-align: top;\n",
       "    }\n",
       "\n",
       "    .dataframe thead th {\n",
       "        text-align: right;\n",
       "    }\n",
       "</style>\n",
       "<table border=\"1\" class=\"dataframe\">\n",
       "  <thead>\n",
       "    <tr style=\"text-align: right;\">\n",
       "      <th></th>\n",
       "      <th>население</th>\n",
       "      <th>площадь</th>\n",
       "      <th>координаты</th>\n",
       "    </tr>\n",
       "  </thead>\n",
       "  <tbody>\n",
       "    <tr>\n",
       "      <th>Нерюнгри</th>\n",
       "      <td>57009.0</td>\n",
       "      <td>98.90</td>\n",
       "      <td>56°39′58″ с.ш. 124°38′17″ в.д.</td>\n",
       "    </tr>\n",
       "    <tr>\n",
       "      <th>Тикси</th>\n",
       "      <td>4745.0</td>\n",
       "      <td>14595.39</td>\n",
       "      <td>71°38′12 с. ш. 128°52′04 в. д</td>\n",
       "    </tr>\n",
       "    <tr>\n",
       "      <th>Якутск</th>\n",
       "      <td>319000.0</td>\n",
       "      <td>122.00</td>\n",
       "      <td>62°01′38″ с. ш. 129°43′55″ в. д.</td>\n",
       "    </tr>\n",
       "  </tbody>\n",
       "</table>\n",
       "</div>"
      ],
      "text/plain": [
       "          население   площадь                        координаты\n",
       "Нерюнгри    57009.0     98.90    56°39′58″ с.ш. 124°38′17″ в.д.\n",
       "Тикси        4745.0  14595.39     71°38′12 с. ш. 128°52′04 в. д\n",
       "Якутск     319000.0    122.00  62°01′38″ с. ш. 129°43′55″ в. д."
      ]
     },
     "execution_count": 42,
     "metadata": {},
     "output_type": "execute_result"
    }
   ],
   "source": [
    "cities_data.loc[mask, :]"
   ]
  },
  {
   "cell_type": "code",
   "execution_count": 43,
   "metadata": {},
   "outputs": [
    {
     "data": {
      "text/html": [
       "<div>\n",
       "<style scoped>\n",
       "    .dataframe tbody tr th:only-of-type {\n",
       "        vertical-align: middle;\n",
       "    }\n",
       "\n",
       "    .dataframe tbody tr th {\n",
       "        vertical-align: top;\n",
       "    }\n",
       "\n",
       "    .dataframe thead th {\n",
       "        text-align: right;\n",
       "    }\n",
       "</style>\n",
       "<table border=\"1\" class=\"dataframe\">\n",
       "  <thead>\n",
       "    <tr style=\"text-align: right;\">\n",
       "      <th></th>\n",
       "      <th>население</th>\n",
       "      <th>площадь</th>\n",
       "      <th>координаты</th>\n",
       "      <th>плотность</th>\n",
       "    </tr>\n",
       "  </thead>\n",
       "  <tbody>\n",
       "    <tr>\n",
       "      <th>Вилюйск</th>\n",
       "      <td>11095.000</td>\n",
       "      <td>15.00</td>\n",
       "      <td>63°44′48″ с.ш. 121°38′00″ в.д.</td>\n",
       "      <td>739.666667</td>\n",
       "    </tr>\n",
       "    <tr>\n",
       "      <th>Мирный</th>\n",
       "      <td>35.416</td>\n",
       "      <td>NaN</td>\n",
       "      <td>62°32′ с. ш. 113°57′ в. д.</td>\n",
       "      <td>NaN</td>\n",
       "    </tr>\n",
       "    <tr>\n",
       "      <th>Нерюнгри</th>\n",
       "      <td>57009.000</td>\n",
       "      <td>98.90</td>\n",
       "      <td>56°39′58″ с.ш. 124°38′17″ в.д.</td>\n",
       "      <td>576.430738</td>\n",
       "    </tr>\n",
       "    <tr>\n",
       "      <th>Тикси</th>\n",
       "      <td>4745.000</td>\n",
       "      <td>14595.39</td>\n",
       "      <td>71°38′12 с. ш. 128°52′04 в. д</td>\n",
       "      <td>0.325103</td>\n",
       "    </tr>\n",
       "    <tr>\n",
       "      <th>Якутск</th>\n",
       "      <td>319000.000</td>\n",
       "      <td>122.00</td>\n",
       "      <td>62°01′38″ с. ш. 129°43′55″ в. д.</td>\n",
       "      <td>2614.754098</td>\n",
       "    </tr>\n",
       "  </tbody>\n",
       "</table>\n",
       "</div>"
      ],
      "text/plain": [
       "           население   площадь                        координаты    плотность\n",
       "Вилюйск    11095.000     15.00    63°44′48″ с.ш. 121°38′00″ в.д.   739.666667\n",
       "Мирный        35.416       NaN        62°32′ с. ш. 113°57′ в. д.          NaN\n",
       "Нерюнгри   57009.000     98.90    56°39′58″ с.ш. 124°38′17″ в.д.   576.430738\n",
       "Тикси       4745.000  14595.39     71°38′12 с. ш. 128°52′04 в. д     0.325103\n",
       "Якутск    319000.000    122.00  62°01′38″ с. ш. 129°43′55″ в. д.  2614.754098"
      ]
     },
     "execution_count": 43,
     "metadata": {},
     "output_type": "execute_result"
    }
   ],
   "source": [
    "# добавление нового столбца\n",
    "cities_data[\"плотность\"] = cities_data[\"население\"] / cities_data[\"площадь\"]\n",
    "cities_data"
   ]
  },
  {
   "cell_type": "code",
   "execution_count": 44,
   "metadata": {},
   "outputs": [
    {
     "data": {
      "text/html": [
       "<div>\n",
       "<style scoped>\n",
       "    .dataframe tbody tr th:only-of-type {\n",
       "        vertical-align: middle;\n",
       "    }\n",
       "\n",
       "    .dataframe tbody tr th {\n",
       "        vertical-align: top;\n",
       "    }\n",
       "\n",
       "    .dataframe thead th {\n",
       "        text-align: right;\n",
       "    }\n",
       "</style>\n",
       "<table border=\"1\" class=\"dataframe\">\n",
       "  <thead>\n",
       "    <tr style=\"text-align: right;\">\n",
       "      <th></th>\n",
       "      <th>население</th>\n",
       "      <th>плотность</th>\n",
       "    </tr>\n",
       "  </thead>\n",
       "  <tbody>\n",
       "    <tr>\n",
       "      <th>Нерюнгри</th>\n",
       "      <td>57009.0</td>\n",
       "      <td>576.430738</td>\n",
       "    </tr>\n",
       "    <tr>\n",
       "      <th>Тикси</th>\n",
       "      <td>4745.0</td>\n",
       "      <td>0.325103</td>\n",
       "    </tr>\n",
       "    <tr>\n",
       "      <th>Якутск</th>\n",
       "      <td>319000.0</td>\n",
       "      <td>2614.754098</td>\n",
       "    </tr>\n",
       "  </tbody>\n",
       "</table>\n",
       "</div>"
      ],
      "text/plain": [
       "          население    плотность\n",
       "Нерюнгри    57009.0   576.430738\n",
       "Тикси        4745.0     0.325103\n",
       "Якутск     319000.0  2614.754098"
      ]
     },
     "execution_count": 44,
     "metadata": {},
     "output_type": "execute_result"
    }
   ],
   "source": [
    "cities_data.loc[\"Нерюнгри\":, [\"население\", \"плотность\"]]"
   ]
  },
  {
   "cell_type": "code",
   "execution_count": 45,
   "metadata": {},
   "outputs": [
    {
     "data": {
      "text/html": [
       "<div>\n",
       "<style scoped>\n",
       "    .dataframe tbody tr th:only-of-type {\n",
       "        vertical-align: middle;\n",
       "    }\n",
       "\n",
       "    .dataframe tbody tr th {\n",
       "        vertical-align: top;\n",
       "    }\n",
       "\n",
       "    .dataframe thead th {\n",
       "        text-align: right;\n",
       "    }\n",
       "</style>\n",
       "<table border=\"1\" class=\"dataframe\">\n",
       "  <thead>\n",
       "    <tr style=\"text-align: right;\">\n",
       "      <th></th>\n",
       "      <th>площадь</th>\n",
       "      <th>население</th>\n",
       "    </tr>\n",
       "  </thead>\n",
       "  <tbody>\n",
       "    <tr>\n",
       "      <th>Вилюйск</th>\n",
       "      <td>15.00</td>\n",
       "      <td>11095.0</td>\n",
       "    </tr>\n",
       "    <tr>\n",
       "      <th>Нерюнгри</th>\n",
       "      <td>98.90</td>\n",
       "      <td>57009.0</td>\n",
       "    </tr>\n",
       "    <tr>\n",
       "      <th>Тикси</th>\n",
       "      <td>14595.39</td>\n",
       "      <td>4745.0</td>\n",
       "    </tr>\n",
       "  </tbody>\n",
       "</table>\n",
       "</div>"
      ],
      "text/plain": [
       "           площадь  население\n",
       "Вилюйск      15.00    11095.0\n",
       "Нерюнгри     98.90    57009.0\n",
       "Тикси     14595.39     4745.0"
      ]
     },
     "execution_count": 45,
     "metadata": {},
     "output_type": "execute_result"
    }
   ],
   "source": [
    "cities_data.loc[cities_data[\"плотность\"] < 1000, [\"площадь\", \"население\"]]"
   ]
  },
  {
   "cell_type": "code",
   "execution_count": null,
   "metadata": {},
   "outputs": [],
   "source": []
  },
  {
   "cell_type": "markdown",
   "metadata": {},
   "source": [
    "- Удаление строк или столбцов с пустыми значениями"
   ]
  },
  {
   "cell_type": "code",
   "execution_count": 46,
   "metadata": {},
   "outputs": [
    {
     "data": {
      "text/html": [
       "<div>\n",
       "<style scoped>\n",
       "    .dataframe tbody tr th:only-of-type {\n",
       "        vertical-align: middle;\n",
       "    }\n",
       "\n",
       "    .dataframe tbody tr th {\n",
       "        vertical-align: top;\n",
       "    }\n",
       "\n",
       "    .dataframe thead th {\n",
       "        text-align: right;\n",
       "    }\n",
       "</style>\n",
       "<table border=\"1\" class=\"dataframe\">\n",
       "  <thead>\n",
       "    <tr style=\"text-align: right;\">\n",
       "      <th></th>\n",
       "      <th>население</th>\n",
       "      <th>площадь</th>\n",
       "      <th>координаты</th>\n",
       "      <th>плотность</th>\n",
       "    </tr>\n",
       "  </thead>\n",
       "  <tbody>\n",
       "    <tr>\n",
       "      <th>Вилюйск</th>\n",
       "      <td>11095.000</td>\n",
       "      <td>15.00</td>\n",
       "      <td>63°44′48″ с.ш. 121°38′00″ в.д.</td>\n",
       "      <td>739.666667</td>\n",
       "    </tr>\n",
       "    <tr>\n",
       "      <th>Мирный</th>\n",
       "      <td>35.416</td>\n",
       "      <td>NaN</td>\n",
       "      <td>62°32′ с. ш. 113°57′ в. д.</td>\n",
       "      <td>NaN</td>\n",
       "    </tr>\n",
       "    <tr>\n",
       "      <th>Нерюнгри</th>\n",
       "      <td>57009.000</td>\n",
       "      <td>98.90</td>\n",
       "      <td>56°39′58″ с.ш. 124°38′17″ в.д.</td>\n",
       "      <td>576.430738</td>\n",
       "    </tr>\n",
       "    <tr>\n",
       "      <th>Тикси</th>\n",
       "      <td>4745.000</td>\n",
       "      <td>14595.39</td>\n",
       "      <td>71°38′12 с. ш. 128°52′04 в. д</td>\n",
       "      <td>0.325103</td>\n",
       "    </tr>\n",
       "    <tr>\n",
       "      <th>Якутск</th>\n",
       "      <td>319000.000</td>\n",
       "      <td>122.00</td>\n",
       "      <td>62°01′38″ с. ш. 129°43′55″ в. д.</td>\n",
       "      <td>2614.754098</td>\n",
       "    </tr>\n",
       "  </tbody>\n",
       "</table>\n",
       "</div>"
      ],
      "text/plain": [
       "           население   площадь                        координаты    плотность\n",
       "Вилюйск    11095.000     15.00    63°44′48″ с.ш. 121°38′00″ в.д.   739.666667\n",
       "Мирный        35.416       NaN        62°32′ с. ш. 113°57′ в. д.          NaN\n",
       "Нерюнгри   57009.000     98.90    56°39′58″ с.ш. 124°38′17″ в.д.   576.430738\n",
       "Тикси       4745.000  14595.39     71°38′12 с. ш. 128°52′04 в. д     0.325103\n",
       "Якутск    319000.000    122.00  62°01′38″ с. ш. 129°43′55″ в. д.  2614.754098"
      ]
     },
     "execution_count": 46,
     "metadata": {},
     "output_type": "execute_result"
    }
   ],
   "source": [
    "cities_data"
   ]
  },
  {
   "cell_type": "code",
   "execution_count": 47,
   "metadata": {},
   "outputs": [
    {
     "data": {
      "text/html": [
       "<div>\n",
       "<style scoped>\n",
       "    .dataframe tbody tr th:only-of-type {\n",
       "        vertical-align: middle;\n",
       "    }\n",
       "\n",
       "    .dataframe tbody tr th {\n",
       "        vertical-align: top;\n",
       "    }\n",
       "\n",
       "    .dataframe thead th {\n",
       "        text-align: right;\n",
       "    }\n",
       "</style>\n",
       "<table border=\"1\" class=\"dataframe\">\n",
       "  <thead>\n",
       "    <tr style=\"text-align: right;\">\n",
       "      <th></th>\n",
       "      <th>население</th>\n",
       "      <th>площадь</th>\n",
       "      <th>координаты</th>\n",
       "      <th>плотность</th>\n",
       "    </tr>\n",
       "  </thead>\n",
       "  <tbody>\n",
       "    <tr>\n",
       "      <th>Вилюйск</th>\n",
       "      <td>11095.0</td>\n",
       "      <td>15.00</td>\n",
       "      <td>63°44′48″ с.ш. 121°38′00″ в.д.</td>\n",
       "      <td>739.666667</td>\n",
       "    </tr>\n",
       "    <tr>\n",
       "      <th>Нерюнгри</th>\n",
       "      <td>57009.0</td>\n",
       "      <td>98.90</td>\n",
       "      <td>56°39′58″ с.ш. 124°38′17″ в.д.</td>\n",
       "      <td>576.430738</td>\n",
       "    </tr>\n",
       "    <tr>\n",
       "      <th>Тикси</th>\n",
       "      <td>4745.0</td>\n",
       "      <td>14595.39</td>\n",
       "      <td>71°38′12 с. ш. 128°52′04 в. д</td>\n",
       "      <td>0.325103</td>\n",
       "    </tr>\n",
       "    <tr>\n",
       "      <th>Якутск</th>\n",
       "      <td>319000.0</td>\n",
       "      <td>122.00</td>\n",
       "      <td>62°01′38″ с. ш. 129°43′55″ в. д.</td>\n",
       "      <td>2614.754098</td>\n",
       "    </tr>\n",
       "  </tbody>\n",
       "</table>\n",
       "</div>"
      ],
      "text/plain": [
       "          население   площадь                        координаты    плотность\n",
       "Вилюйск     11095.0     15.00    63°44′48″ с.ш. 121°38′00″ в.д.   739.666667\n",
       "Нерюнгри    57009.0     98.90    56°39′58″ с.ш. 124°38′17″ в.д.   576.430738\n",
       "Тикси        4745.0  14595.39     71°38′12 с. ш. 128°52′04 в. д     0.325103\n",
       "Якутск     319000.0    122.00  62°01′38″ с. ш. 129°43′55″ в. д.  2614.754098"
      ]
     },
     "execution_count": 47,
     "metadata": {},
     "output_type": "execute_result"
    }
   ],
   "source": [
    "# по умолчанию удаляем строки\n",
    "cities_data.dropna()"
   ]
  },
  {
   "cell_type": "code",
   "execution_count": 48,
   "metadata": {},
   "outputs": [
    {
     "data": {
      "text/html": [
       "<div>\n",
       "<style scoped>\n",
       "    .dataframe tbody tr th:only-of-type {\n",
       "        vertical-align: middle;\n",
       "    }\n",
       "\n",
       "    .dataframe tbody tr th {\n",
       "        vertical-align: top;\n",
       "    }\n",
       "\n",
       "    .dataframe thead th {\n",
       "        text-align: right;\n",
       "    }\n",
       "</style>\n",
       "<table border=\"1\" class=\"dataframe\">\n",
       "  <thead>\n",
       "    <tr style=\"text-align: right;\">\n",
       "      <th></th>\n",
       "      <th>население</th>\n",
       "      <th>координаты</th>\n",
       "    </tr>\n",
       "  </thead>\n",
       "  <tbody>\n",
       "    <tr>\n",
       "      <th>Вилюйск</th>\n",
       "      <td>11095.000</td>\n",
       "      <td>63°44′48″ с.ш. 121°38′00″ в.д.</td>\n",
       "    </tr>\n",
       "    <tr>\n",
       "      <th>Мирный</th>\n",
       "      <td>35.416</td>\n",
       "      <td>62°32′ с. ш. 113°57′ в. д.</td>\n",
       "    </tr>\n",
       "    <tr>\n",
       "      <th>Нерюнгри</th>\n",
       "      <td>57009.000</td>\n",
       "      <td>56°39′58″ с.ш. 124°38′17″ в.д.</td>\n",
       "    </tr>\n",
       "    <tr>\n",
       "      <th>Тикси</th>\n",
       "      <td>4745.000</td>\n",
       "      <td>71°38′12 с. ш. 128°52′04 в. д</td>\n",
       "    </tr>\n",
       "    <tr>\n",
       "      <th>Якутск</th>\n",
       "      <td>319000.000</td>\n",
       "      <td>62°01′38″ с. ш. 129°43′55″ в. д.</td>\n",
       "    </tr>\n",
       "  </tbody>\n",
       "</table>\n",
       "</div>"
      ],
      "text/plain": [
       "           население                        координаты\n",
       "Вилюйск    11095.000    63°44′48″ с.ш. 121°38′00″ в.д.\n",
       "Мирный        35.416        62°32′ с. ш. 113°57′ в. д.\n",
       "Нерюнгри   57009.000    56°39′58″ с.ш. 124°38′17″ в.д.\n",
       "Тикси       4745.000     71°38′12 с. ш. 128°52′04 в. д\n",
       "Якутск    319000.000  62°01′38″ с. ш. 129°43′55″ в. д."
      ]
     },
     "execution_count": 48,
     "metadata": {},
     "output_type": "execute_result"
    }
   ],
   "source": [
    "# удаление столбцов\n",
    "cities_data.dropna(axis=\"columns\")"
   ]
  }
 ],
 "metadata": {
  "interpreter": {
   "hash": "04ce6248be7b19322c19470739d6f20a9feb2ff5fc9ceb25cdbf4db9f6098152"
  },
  "kernelspec": {
   "display_name": "Python 3.8.12 64-bit ('base': conda)",
   "name": "python3"
  },
  "language_info": {
   "codemirror_mode": {
    "name": "ipython",
    "version": 3
   },
   "file_extension": ".py",
   "mimetype": "text/x-python",
   "name": "python",
   "nbconvert_exporter": "python",
   "pygments_lexer": "ipython3",
   "version": "3.8.12"
  },
  "orig_nbformat": 4
 },
 "nbformat": 4,
 "nbformat_minor": 2
}
